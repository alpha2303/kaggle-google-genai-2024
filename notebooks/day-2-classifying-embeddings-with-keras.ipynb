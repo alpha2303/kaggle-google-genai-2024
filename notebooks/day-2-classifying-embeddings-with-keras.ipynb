{
 "cells": [
  {
   "cell_type": "markdown",
   "id": "1b91a5dc",
   "metadata": {
    "id": "v0WeWbFNkUSz",
    "papermill": {
     "duration": 0.014523,
     "end_time": "2024-11-12T21:57:05.340390",
     "exception": false,
     "start_time": "2024-11-12T21:57:05.325867",
     "status": "completed"
    },
    "tags": []
   },
   "source": [
    "##### Copyright 2024 Google LLC."
   ]
  },
  {
   "cell_type": "code",
   "execution_count": 1,
   "id": "7b766e1c",
   "metadata": {
    "cellView": "form",
    "execution": {
     "iopub.execute_input": "2024-11-12T21:57:05.368570Z",
     "iopub.status.busy": "2024-11-12T21:57:05.367915Z",
     "iopub.status.idle": "2024-11-12T21:57:05.374873Z",
     "shell.execute_reply": "2024-11-12T21:57:05.373698Z"
    },
    "id": "Aqwsgz9lkUst",
    "papermill": {
     "duration": 0.024144,
     "end_time": "2024-11-12T21:57:05.377492",
     "exception": false,
     "start_time": "2024-11-12T21:57:05.353348",
     "status": "completed"
    },
    "tags": []
   },
   "outputs": [],
   "source": [
    "# @title Licensed under the Apache License, Version 2.0 (the \"License\");\n",
    "# you may not use this file except in compliance with the License.\n",
    "# You may obtain a copy of the License at\n",
    "#\n",
    "# https://www.apache.org/licenses/LICENSE-2.0\n",
    "#\n",
    "# Unless required by applicable law or agreed to in writing, software\n",
    "# distributed under the License is distributed on an \"AS IS\" BASIS,\n",
    "# WITHOUT WARRANTIES OR CONDITIONS OF ANY KIND, either express or implied.\n",
    "# See the License for the specific language governing permissions and\n",
    "# limitations under the License."
   ]
  },
  {
   "cell_type": "markdown",
   "id": "10e4ac32",
   "metadata": {
    "id": "bhT1u-Pof10V",
    "papermill": {
     "duration": 0.012398,
     "end_time": "2024-11-12T21:57:05.402693",
     "exception": false,
     "start_time": "2024-11-12T21:57:05.390295",
     "status": "completed"
    },
    "tags": []
   },
   "source": [
    "# Day 2 - Classifying embeddings with Keras and the Gemini API\n",
    "\n",
    "## Overview\n",
    "\n",
    "Welcome back to the Kaggle 5-day Generative AI course. In this notebook, you'll learn to use the embeddings produced by the Gemini API to train a model that can classify newsgroup posts into the categories (the newsgroup itself) from the post contents.\n",
    "\n",
    "This technique uses the Gemini API's embeddings as input, avoiding the need to train on text input directly, and as a result it is able to perform quite well using relatively few examples compared to training a text model from scratch.\n",
    "\n",
    "## For help\n",
    "\n",
    "**Common issues are covered in the [FAQ and troubleshooting guide](https://www.kaggle.com/code/markishere/day-0-troubleshooting-and-faqs).**\n"
   ]
  },
  {
   "cell_type": "code",
   "execution_count": 2,
   "id": "231545ed",
   "metadata": {
    "execution": {
     "iopub.execute_input": "2024-11-12T21:57:05.430986Z",
     "iopub.status.busy": "2024-11-12T21:57:05.430521Z",
     "iopub.status.idle": "2024-11-12T21:57:37.344916Z",
     "shell.execute_reply": "2024-11-12T21:57:37.343383Z"
    },
    "id": "FXq0ygI3BCdQ",
    "papermill": {
     "duration": 31.944019,
     "end_time": "2024-11-12T21:57:37.360458",
     "exception": false,
     "start_time": "2024-11-12T21:57:05.416439",
     "status": "completed"
    },
    "tags": []
   },
   "outputs": [
    {
     "name": "stdout",
     "output_type": "stream",
     "text": [
      "Note: you may need to restart the kernel to use updated packages.\n"
     ]
    }
   ],
   "source": [
    "%pip install -U -q \"google-generativeai>=0.8.3\""
   ]
  },
  {
   "cell_type": "code",
   "execution_count": 3,
   "id": "1f60bf63",
   "metadata": {
    "execution": {
     "iopub.execute_input": "2024-11-12T21:57:37.388229Z",
     "iopub.status.busy": "2024-11-12T21:57:37.387745Z",
     "iopub.status.idle": "2024-11-12T21:57:38.571049Z",
     "shell.execute_reply": "2024-11-12T21:57:38.569767Z"
    },
    "id": "XiJjB2vWCQJP",
    "papermill": {
     "duration": 1.200548,
     "end_time": "2024-11-12T21:57:38.573987",
     "exception": false,
     "start_time": "2024-11-12T21:57:37.373439",
     "status": "completed"
    },
    "tags": []
   },
   "outputs": [],
   "source": [
    "import google.generativeai as genai"
   ]
  },
  {
   "cell_type": "markdown",
   "id": "77146c82",
   "metadata": {
    "id": "_mwJYXpElYJc",
    "papermill": {
     "duration": 0.012145,
     "end_time": "2024-11-12T21:57:38.598786",
     "exception": false,
     "start_time": "2024-11-12T21:57:38.586641",
     "status": "completed"
    },
    "tags": []
   },
   "source": [
    "### Set up your API key\n",
    "\n",
    "To run the following cell, your API key must be stored it in a [Kaggle secret](https://www.kaggle.com/discussions/product-feedback/114053) named `GOOGLE_API_KEY`.\n",
    "\n",
    "If you don't already have an API key, you can grab one from [AI Studio](https://aistudio.google.com/app/apikey). You can find [detailed instructions in the docs](https://ai.google.dev/gemini-api/docs/api-key).\n",
    "\n",
    "To make the key available through Kaggle secrets, choose `Secrets` from the `Add-ons` menu and follow the instructions to add your key or enable it for this notebook."
   ]
  },
  {
   "cell_type": "code",
   "execution_count": 4,
   "id": "e462a998",
   "metadata": {
    "execution": {
     "iopub.execute_input": "2024-11-12T21:57:38.626158Z",
     "iopub.status.busy": "2024-11-12T21:57:38.625070Z",
     "iopub.status.idle": "2024-11-12T21:57:38.790049Z",
     "shell.execute_reply": "2024-11-12T21:57:38.788587Z"
    },
    "id": "tayrk_A2lZ7A",
    "papermill": {
     "duration": 0.181485,
     "end_time": "2024-11-12T21:57:38.792849",
     "exception": false,
     "start_time": "2024-11-12T21:57:38.611364",
     "status": "completed"
    },
    "tags": []
   },
   "outputs": [],
   "source": [
    "from kaggle_secrets import UserSecretsClient\n",
    "\n",
    "GOOGLE_API_KEY = UserSecretsClient().get_secret(\"GOOGLE_API_KEY\")\n",
    "genai.configure(api_key=GOOGLE_API_KEY)"
   ]
  },
  {
   "cell_type": "markdown",
   "id": "bcd7377e",
   "metadata": {
    "id": "c79728739642",
    "papermill": {
     "duration": 0.012458,
     "end_time": "2024-11-12T21:57:38.817922",
     "exception": false,
     "start_time": "2024-11-12T21:57:38.805464",
     "status": "completed"
    },
    "tags": []
   },
   "source": [
    "If you received an error response along the lines of `No user secrets exist for kernel id ...`, then you need to add your API key via `Add-ons`, `Secrets` **and** enable it.\n",
    "\n",
    "![Screenshot of the checkbox to enable GOOGLE_API_KEY secret](https://storage.googleapis.com/kaggle-media/Images/5gdai_sc_3.png)"
   ]
  },
  {
   "cell_type": "markdown",
   "id": "ae509ddc",
   "metadata": {
    "id": "C5B9sWq0hNEV",
    "papermill": {
     "duration": 0.011923,
     "end_time": "2024-11-12T21:57:38.842207",
     "exception": false,
     "start_time": "2024-11-12T21:57:38.830284",
     "status": "completed"
    },
    "tags": []
   },
   "source": [
    "## Dataset\n",
    "\n",
    "The [20 Newsgroups Text Dataset](https://scikit-learn.org/0.19/datasets/twenty_newsgroups.html) contains 18,000 newsgroups posts on 20 topics divided into training and test sets. The split between the training and test datasets are based on messages posted before and after a specific date. For this tutorial, you will use sampled subsets of the training and test sets, and perform some processing using Pandas."
   ]
  },
  {
   "cell_type": "code",
   "execution_count": 5,
   "id": "53d91173",
   "metadata": {
    "execution": {
     "iopub.execute_input": "2024-11-12T21:57:38.868484Z",
     "iopub.status.busy": "2024-11-12T21:57:38.868077Z",
     "iopub.status.idle": "2024-11-12T21:57:53.133348Z",
     "shell.execute_reply": "2024-11-12T21:57:53.131903Z"
    },
    "id": "jDoKis4om-Ea",
    "papermill": {
     "duration": 14.281459,
     "end_time": "2024-11-12T21:57:53.135971",
     "exception": false,
     "start_time": "2024-11-12T21:57:38.854512",
     "status": "completed"
    },
    "tags": []
   },
   "outputs": [
    {
     "data": {
      "text/plain": [
       "['alt.atheism',\n",
       " 'comp.graphics',\n",
       " 'comp.os.ms-windows.misc',\n",
       " 'comp.sys.ibm.pc.hardware',\n",
       " 'comp.sys.mac.hardware',\n",
       " 'comp.windows.x',\n",
       " 'misc.forsale',\n",
       " 'rec.autos',\n",
       " 'rec.motorcycles',\n",
       " 'rec.sport.baseball',\n",
       " 'rec.sport.hockey',\n",
       " 'sci.crypt',\n",
       " 'sci.electronics',\n",
       " 'sci.med',\n",
       " 'sci.space',\n",
       " 'soc.religion.christian',\n",
       " 'talk.politics.guns',\n",
       " 'talk.politics.mideast',\n",
       " 'talk.politics.misc',\n",
       " 'talk.religion.misc']"
      ]
     },
     "execution_count": 5,
     "metadata": {},
     "output_type": "execute_result"
    }
   ],
   "source": [
    "from sklearn.datasets import fetch_20newsgroups\n",
    "\n",
    "newsgroups_train = fetch_20newsgroups(subset=\"train\")\n",
    "newsgroups_test = fetch_20newsgroups(subset=\"test\")\n",
    "\n",
    "# View list of class names for dataset\n",
    "newsgroups_train.target_names"
   ]
  },
  {
   "cell_type": "markdown",
   "id": "377bae1d",
   "metadata": {
    "id": "hDz9MjkNl_FD",
    "papermill": {
     "duration": 0.012177,
     "end_time": "2024-11-12T21:57:53.160744",
     "exception": false,
     "start_time": "2024-11-12T21:57:53.148567",
     "status": "completed"
    },
    "tags": []
   },
   "source": [
    "Here is an example of what a record from the training set looks like."
   ]
  },
  {
   "cell_type": "code",
   "execution_count": 6,
   "id": "50c78c45",
   "metadata": {
    "execution": {
     "iopub.execute_input": "2024-11-12T21:57:53.187905Z",
     "iopub.status.busy": "2024-11-12T21:57:53.187504Z",
     "iopub.status.idle": "2024-11-12T21:57:53.193035Z",
     "shell.execute_reply": "2024-11-12T21:57:53.191715Z"
    },
    "id": "FPq-56AimOPX",
    "papermill": {
     "duration": 0.022992,
     "end_time": "2024-11-12T21:57:53.196432",
     "exception": false,
     "start_time": "2024-11-12T21:57:53.173440",
     "status": "completed"
    },
    "tags": []
   },
   "outputs": [
    {
     "name": "stdout",
     "output_type": "stream",
     "text": [
      "From: lerxst@wam.umd.edu (where's my thing)\n",
      "Subject: WHAT car is this!?\n",
      "Nntp-Posting-Host: rac3.wam.umd.edu\n",
      "Organization: University of Maryland, College Park\n",
      "Lines: 15\n",
      "\n",
      " I was wondering if anyone out there could enlighten me on this car I saw\n",
      "the other day. It was a 2-door sports car, looked to be from the late 60s/\n",
      "early 70s. It was called a Bricklin. The doors were really small. In addition,\n",
      "the front bumper was separate from the rest of the body. This is \n",
      "all I know. If anyone can tellme a model name, engine specs, years\n",
      "of production, where this car is made, history, or whatever info you\n",
      "have on this funky looking car, please e-mail.\n",
      "\n",
      "Thanks,\n",
      "- IL\n",
      "   ---- brought to you by your neighborhood Lerxst ----\n",
      "\n",
      "\n",
      "\n",
      "\n",
      "\n"
     ]
    }
   ],
   "source": [
    "print(newsgroups_train.data[0])"
   ]
  },
  {
   "cell_type": "markdown",
   "id": "e1966d5b",
   "metadata": {
    "id": "A9-DD7wgCx8j",
    "papermill": {
     "duration": 0.012516,
     "end_time": "2024-11-12T21:57:53.221896",
     "exception": false,
     "start_time": "2024-11-12T21:57:53.209380",
     "status": "completed"
    },
    "tags": []
   },
   "source": [
    "Start by preprocessing the data for this tutorial in a Pandas dataframe. To remove any sensitive information like names and email addresses, you will take only the subject and body of each message. This is an optional step that transforms the input data into more generic text, rather than email posts, so that it will work in other contexts."
   ]
  },
  {
   "cell_type": "code",
   "execution_count": 7,
   "id": "2d7e798e",
   "metadata": {
    "execution": {
     "iopub.execute_input": "2024-11-12T21:57:53.248946Z",
     "iopub.status.busy": "2024-11-12T21:57:53.248555Z",
     "iopub.status.idle": "2024-11-12T21:57:54.167996Z",
     "shell.execute_reply": "2024-11-12T21:57:54.166747Z"
    },
    "id": "urpLwp3UmPF3",
    "papermill": {
     "duration": 0.936406,
     "end_time": "2024-11-12T21:57:54.171027",
     "exception": false,
     "start_time": "2024-11-12T21:57:53.234621",
     "status": "completed"
    },
    "tags": []
   },
   "outputs": [],
   "source": [
    "import email\n",
    "import re\n",
    "\n",
    "import pandas as pd\n",
    "\n",
    "\n",
    "def preprocess_newsgroup_row(data):\n",
    "    # Extract only the subject and body\n",
    "    msg = email.message_from_string(data)\n",
    "    text = f\"{msg['Subject']}\\n\\n{msg.get_payload()}\"\n",
    "    # Strip any remaining email addresses\n",
    "    text = re.sub(r\"[\\w\\.-]+@[\\w\\.-]+\", \"\", text)\n",
    "    # Truncate each entry to 5,000 characters\n",
    "    text = text[:5000]\n",
    "\n",
    "    return text\n",
    "\n",
    "\n",
    "def preprocess_newsgroup_data(newsgroup_dataset):\n",
    "    # Put data points into dataframe\n",
    "    df = pd.DataFrame(\n",
    "        {\"Text\": newsgroup_dataset.data, \"Label\": newsgroup_dataset.target}\n",
    "    )\n",
    "    # Clean up the text\n",
    "    df[\"Text\"] = df[\"Text\"].apply(preprocess_newsgroup_row)\n",
    "    # Match label to target name index\n",
    "    df[\"Class Name\"] = df[\"Label\"].map(lambda l: newsgroup_dataset.target_names[l])\n",
    "\n",
    "    return df"
   ]
  },
  {
   "cell_type": "code",
   "execution_count": 8,
   "id": "62bfff00",
   "metadata": {
    "execution": {
     "iopub.execute_input": "2024-11-12T21:57:54.198848Z",
     "iopub.status.busy": "2024-11-12T21:57:54.198212Z",
     "iopub.status.idle": "2024-11-12T21:58:00.839640Z",
     "shell.execute_reply": "2024-11-12T21:58:00.838329Z"
    },
    "id": "JMKddQdNnAOV",
    "papermill": {
     "duration": 6.658611,
     "end_time": "2024-11-12T21:58:00.842455",
     "exception": false,
     "start_time": "2024-11-12T21:57:54.183844",
     "status": "completed"
    },
    "tags": []
   },
   "outputs": [
    {
     "data": {
      "text/html": [
       "<div>\n",
       "<style scoped>\n",
       "    .dataframe tbody tr th:only-of-type {\n",
       "        vertical-align: middle;\n",
       "    }\n",
       "\n",
       "    .dataframe tbody tr th {\n",
       "        vertical-align: top;\n",
       "    }\n",
       "\n",
       "    .dataframe thead th {\n",
       "        text-align: right;\n",
       "    }\n",
       "</style>\n",
       "<table border=\"1\" class=\"dataframe\">\n",
       "  <thead>\n",
       "    <tr style=\"text-align: right;\">\n",
       "      <th></th>\n",
       "      <th>Text</th>\n",
       "      <th>Label</th>\n",
       "      <th>Class Name</th>\n",
       "    </tr>\n",
       "  </thead>\n",
       "  <tbody>\n",
       "    <tr>\n",
       "      <th>0</th>\n",
       "      <td>WHAT car is this!?\\n\\n I was wondering if anyo...</td>\n",
       "      <td>7</td>\n",
       "      <td>rec.autos</td>\n",
       "    </tr>\n",
       "    <tr>\n",
       "      <th>1</th>\n",
       "      <td>SI Clock Poll - Final Call\\n\\nA fair number of...</td>\n",
       "      <td>4</td>\n",
       "      <td>comp.sys.mac.hardware</td>\n",
       "    </tr>\n",
       "    <tr>\n",
       "      <th>2</th>\n",
       "      <td>PB questions...\\n\\nwell folks, my mac plus fin...</td>\n",
       "      <td>4</td>\n",
       "      <td>comp.sys.mac.hardware</td>\n",
       "    </tr>\n",
       "    <tr>\n",
       "      <th>3</th>\n",
       "      <td>Re: Weitek P9000 ?\\n\\nRobert J.C. Kyanko () wr...</td>\n",
       "      <td>1</td>\n",
       "      <td>comp.graphics</td>\n",
       "    </tr>\n",
       "    <tr>\n",
       "      <th>4</th>\n",
       "      <td>Re: Shuttle Launch Question\\n\\nFrom article &lt;&gt;...</td>\n",
       "      <td>14</td>\n",
       "      <td>sci.space</td>\n",
       "    </tr>\n",
       "  </tbody>\n",
       "</table>\n",
       "</div>"
      ],
      "text/plain": [
       "                                                Text  Label  \\\n",
       "0  WHAT car is this!?\\n\\n I was wondering if anyo...      7   \n",
       "1  SI Clock Poll - Final Call\\n\\nA fair number of...      4   \n",
       "2  PB questions...\\n\\nwell folks, my mac plus fin...      4   \n",
       "3  Re: Weitek P9000 ?\\n\\nRobert J.C. Kyanko () wr...      1   \n",
       "4  Re: Shuttle Launch Question\\n\\nFrom article <>...     14   \n",
       "\n",
       "              Class Name  \n",
       "0              rec.autos  \n",
       "1  comp.sys.mac.hardware  \n",
       "2  comp.sys.mac.hardware  \n",
       "3          comp.graphics  \n",
       "4              sci.space  "
      ]
     },
     "execution_count": 8,
     "metadata": {},
     "output_type": "execute_result"
    }
   ],
   "source": [
    "# Apply preprocessing function to training and test datasets\n",
    "df_train = preprocess_newsgroup_data(newsgroups_train)\n",
    "df_test = preprocess_newsgroup_data(newsgroups_test)\n",
    "\n",
    "df_train.head()"
   ]
  },
  {
   "cell_type": "markdown",
   "id": "ae78915b",
   "metadata": {
    "id": "ogEGbg5XDv-T",
    "papermill": {
     "duration": 0.012689,
     "end_time": "2024-11-12T21:58:00.868281",
     "exception": false,
     "start_time": "2024-11-12T21:58:00.855592",
     "status": "completed"
    },
    "tags": []
   },
   "source": [
    "Next, you will sample some of the data by taking 100 data points in the training dataset, and dropping a few of the categories to run through this tutorial. Choose the science categories to compare."
   ]
  },
  {
   "cell_type": "code",
   "execution_count": 9,
   "id": "7283303e",
   "metadata": {
    "execution": {
     "iopub.execute_input": "2024-11-12T21:58:00.897090Z",
     "iopub.status.busy": "2024-11-12T21:58:00.896555Z",
     "iopub.status.idle": "2024-11-12T21:58:00.905390Z",
     "shell.execute_reply": "2024-11-12T21:58:00.903945Z"
    },
    "id": "C2N7xXhJohLR",
    "papermill": {
     "duration": 0.026645,
     "end_time": "2024-11-12T21:58:00.908053",
     "exception": false,
     "start_time": "2024-11-12T21:58:00.881408",
     "status": "completed"
    },
    "tags": []
   },
   "outputs": [],
   "source": [
    "def sample_data(df, num_samples, classes_to_keep):\n",
    "    # Sample rows, selecting num_samples of each Label.\n",
    "    df = (\n",
    "        df.groupby(\"Label\")[df.columns]\n",
    "        .apply(lambda x: x.sample(num_samples))\n",
    "        .reset_index(drop=True)\n",
    "    )\n",
    "\n",
    "    df = df[df[\"Class Name\"].str.contains(classes_to_keep)]\n",
    "\n",
    "    # We have fewer categories now, so re-calibrate the label encoding.\n",
    "    df[\"Class Name\"] = df[\"Class Name\"].astype(\"category\")\n",
    "    df[\"Encoded Label\"] = df[\"Class Name\"].cat.codes\n",
    "\n",
    "    return df"
   ]
  },
  {
   "cell_type": "code",
   "execution_count": 10,
   "id": "7ebbcba9",
   "metadata": {
    "execution": {
     "iopub.execute_input": "2024-11-12T21:58:00.937050Z",
     "iopub.status.busy": "2024-11-12T21:58:00.936605Z",
     "iopub.status.idle": "2024-11-12T21:58:00.988493Z",
     "shell.execute_reply": "2024-11-12T21:58:00.987314Z"
    },
    "id": "jS2g_ZGupBUb",
    "papermill": {
     "duration": 0.070257,
     "end_time": "2024-11-12T21:58:00.991825",
     "exception": false,
     "start_time": "2024-11-12T21:58:00.921568",
     "status": "completed"
    },
    "tags": []
   },
   "outputs": [],
   "source": [
    "TRAIN_NUM_SAMPLES = 100\n",
    "TEST_NUM_SAMPLES = 25\n",
    "CLASSES_TO_KEEP = \"sci\"  # Class name should contain 'sci' to keep science categories\n",
    "\n",
    "df_train = sample_data(df_train, TRAIN_NUM_SAMPLES, CLASSES_TO_KEEP)\n",
    "df_test = sample_data(df_test, TEST_NUM_SAMPLES, CLASSES_TO_KEEP)"
   ]
  },
  {
   "cell_type": "code",
   "execution_count": 11,
   "id": "dcfd7832",
   "metadata": {
    "execution": {
     "iopub.execute_input": "2024-11-12T21:58:01.023059Z",
     "iopub.status.busy": "2024-11-12T21:58:01.022539Z",
     "iopub.status.idle": "2024-11-12T21:58:01.038234Z",
     "shell.execute_reply": "2024-11-12T21:58:01.036721Z"
    },
    "id": "j04TMPY8rV5q",
    "papermill": {
     "duration": 0.034427,
     "end_time": "2024-11-12T21:58:01.040860",
     "exception": false,
     "start_time": "2024-11-12T21:58:01.006433",
     "status": "completed"
    },
    "tags": []
   },
   "outputs": [
    {
     "data": {
      "text/plain": [
       "Class Name\n",
       "sci.crypt          100\n",
       "sci.electronics    100\n",
       "sci.med            100\n",
       "sci.space          100\n",
       "Name: count, dtype: int64"
      ]
     },
     "execution_count": 11,
     "metadata": {},
     "output_type": "execute_result"
    }
   ],
   "source": [
    "df_train.value_counts(\"Class Name\")"
   ]
  },
  {
   "cell_type": "code",
   "execution_count": 12,
   "id": "e697b25d",
   "metadata": {
    "execution": {
     "iopub.execute_input": "2024-11-12T21:58:01.070037Z",
     "iopub.status.busy": "2024-11-12T21:58:01.068775Z",
     "iopub.status.idle": "2024-11-12T21:58:01.080770Z",
     "shell.execute_reply": "2024-11-12T21:58:01.079435Z"
    },
    "id": "qMsnfkVDsJlU",
    "papermill": {
     "duration": 0.02918,
     "end_time": "2024-11-12T21:58:01.083267",
     "exception": false,
     "start_time": "2024-11-12T21:58:01.054087",
     "status": "completed"
    },
    "tags": []
   },
   "outputs": [
    {
     "data": {
      "text/plain": [
       "Class Name\n",
       "sci.crypt          25\n",
       "sci.electronics    25\n",
       "sci.med            25\n",
       "sci.space          25\n",
       "Name: count, dtype: int64"
      ]
     },
     "execution_count": 12,
     "metadata": {},
     "output_type": "execute_result"
    }
   ],
   "source": [
    "df_test.value_counts(\"Class Name\")"
   ]
  },
  {
   "cell_type": "markdown",
   "id": "abe813d9",
   "metadata": {
    "id": "Kr-WlKzXjYWn",
    "papermill": {
     "duration": 0.013493,
     "end_time": "2024-11-12T21:58:01.110441",
     "exception": false,
     "start_time": "2024-11-12T21:58:01.096948",
     "status": "completed"
    },
    "tags": []
   },
   "source": [
    "## Create the embeddings\n",
    "\n",
    "In this section, you will generate embeddings for each piece of text using the Gemini API embeddings endpoint. To learn more about embeddings, visit the [embeddings guide](https://ai.google.dev/docs/embeddings_guide).\n",
    "\n",
    "**NOTE**: Embeddings are computed one at a time, so large sample sizes can take a long time!"
   ]
  },
  {
   "cell_type": "markdown",
   "id": "b079bba9",
   "metadata": {
    "id": "yPECMeE2xYA_",
    "papermill": {
     "duration": 0.012953,
     "end_time": "2024-11-12T21:58:01.136945",
     "exception": false,
     "start_time": "2024-11-12T21:58:01.123992",
     "status": "completed"
    },
    "tags": []
   },
   "source": [
    "### Task types\n",
    "\n",
    "The `text-embedding-004` model supports a task type parameter that generates embeddings tailored for the specific task.\n",
    "\n",
    "Task Type | Description\n",
    "---       | ---\n",
    "RETRIEVAL_QUERY\t| Specifies the given text is a query in a search/retrieval setting.\n",
    "RETRIEVAL_DOCUMENT | Specifies the given text is a document in a search/retrieval setting.\n",
    "SEMANTIC_SIMILARITY\t| Specifies the given text will be used for Semantic Textual Similarity (STS).\n",
    "CLASSIFICATION\t| Specifies that the embeddings will be used for classification.\n",
    "CLUSTERING\t| Specifies that the embeddings will be used for clustering.\n",
    "FACT_VERIFICATION | Specifies that the given text will be used for fact verification.\n",
    "\n",
    "For this example you will be performing classification."
   ]
  },
  {
   "cell_type": "code",
   "execution_count": 13,
   "id": "74a101bc",
   "metadata": {
    "execution": {
     "iopub.execute_input": "2024-11-12T21:58:01.165883Z",
     "iopub.status.busy": "2024-11-12T21:58:01.164931Z",
     "iopub.status.idle": "2024-11-12T21:58:01.178232Z",
     "shell.execute_reply": "2024-11-12T21:58:01.177104Z"
    },
    "papermill": {
     "duration": 0.030397,
     "end_time": "2024-11-12T21:58:01.180631",
     "exception": false,
     "start_time": "2024-11-12T21:58:01.150234",
     "status": "completed"
    },
    "tags": []
   },
   "outputs": [
    {
     "data": {
      "text/html": [
       "<div>\n",
       "<style scoped>\n",
       "    .dataframe tbody tr th:only-of-type {\n",
       "        vertical-align: middle;\n",
       "    }\n",
       "\n",
       "    .dataframe tbody tr th {\n",
       "        vertical-align: top;\n",
       "    }\n",
       "\n",
       "    .dataframe thead th {\n",
       "        text-align: right;\n",
       "    }\n",
       "</style>\n",
       "<table border=\"1\" class=\"dataframe\">\n",
       "  <thead>\n",
       "    <tr style=\"text-align: right;\">\n",
       "      <th></th>\n",
       "      <th>Text</th>\n",
       "      <th>Label</th>\n",
       "      <th>Class Name</th>\n",
       "      <th>Encoded Label</th>\n",
       "    </tr>\n",
       "  </thead>\n",
       "  <tbody>\n",
       "    <tr>\n",
       "      <th>1100</th>\n",
       "      <td>Corporate acceptance of the wiretap chip\\n\\n \\...</td>\n",
       "      <td>11</td>\n",
       "      <td>sci.crypt</td>\n",
       "      <td>0</td>\n",
       "    </tr>\n",
       "    <tr>\n",
       "      <th>1101</th>\n",
       "      <td>Re: Once tapped, your code is no good any more...</td>\n",
       "      <td>11</td>\n",
       "      <td>sci.crypt</td>\n",
       "      <td>0</td>\n",
       "    </tr>\n",
       "    <tr>\n",
       "      <th>1102</th>\n",
       "      <td>Re: Organized Lobbying for Cryptography\\n\\nTar...</td>\n",
       "      <td>11</td>\n",
       "      <td>sci.crypt</td>\n",
       "      <td>0</td>\n",
       "    </tr>\n",
       "    <tr>\n",
       "      <th>1103</th>\n",
       "      <td>Re: Screw the people, crypto is for hard-core ...</td>\n",
       "      <td>11</td>\n",
       "      <td>sci.crypt</td>\n",
       "      <td>0</td>\n",
       "    </tr>\n",
       "    <tr>\n",
       "      <th>1104</th>\n",
       "      <td>Re: Secret algorithm [Re: Clipper Chip and cry...</td>\n",
       "      <td>11</td>\n",
       "      <td>sci.crypt</td>\n",
       "      <td>0</td>\n",
       "    </tr>\n",
       "  </tbody>\n",
       "</table>\n",
       "</div>"
      ],
      "text/plain": [
       "                                                   Text  Label Class Name  \\\n",
       "1100  Corporate acceptance of the wiretap chip\\n\\n \\...     11  sci.crypt   \n",
       "1101  Re: Once tapped, your code is no good any more...     11  sci.crypt   \n",
       "1102  Re: Organized Lobbying for Cryptography\\n\\nTar...     11  sci.crypt   \n",
       "1103  Re: Screw the people, crypto is for hard-core ...     11  sci.crypt   \n",
       "1104  Re: Secret algorithm [Re: Clipper Chip and cry...     11  sci.crypt   \n",
       "\n",
       "      Encoded Label  \n",
       "1100              0  \n",
       "1101              0  \n",
       "1102              0  \n",
       "1103              0  \n",
       "1104              0  "
      ]
     },
     "execution_count": 13,
     "metadata": {},
     "output_type": "execute_result"
    }
   ],
   "source": [
    "df_train.head()"
   ]
  },
  {
   "cell_type": "code",
   "execution_count": 14,
   "id": "0b65c198",
   "metadata": {
    "execution": {
     "iopub.execute_input": "2024-11-12T21:58:01.209977Z",
     "iopub.status.busy": "2024-11-12T21:58:01.209519Z",
     "iopub.status.idle": "2024-11-12T21:58:01.223505Z",
     "shell.execute_reply": "2024-11-12T21:58:01.222288Z"
    },
    "id": "MTBGKkPQsotz",
    "papermill": {
     "duration": 0.032126,
     "end_time": "2024-11-12T21:58:01.226456",
     "exception": false,
     "start_time": "2024-11-12T21:58:01.194330",
     "status": "completed"
    },
    "tags": []
   },
   "outputs": [],
   "source": [
    "from tqdm.auto import tqdm\n",
    "import asyncio\n",
    "\n",
    "tqdm.pandas()\n",
    "\n",
    "from google.api_core import retry\n",
    "\n",
    "\n",
    "@retry.Retry(timeout=300.0)\n",
    "def embed_fn(texts: list[str]) -> list[float]:\n",
    "    # You will be performing classification, so set task_type accordingly.\n",
    "    response = genai.embed_content(\n",
    "        model=\"models/text-embedding-004\", content=texts, task_type=\"classification\"\n",
    "    )\n",
    "\n",
    "    return response[\"embedding\"]\n",
    "\n",
    "\n",
    "def create_embeddings_seq(df): # Elapsed time - ~108sec\n",
    "    df[\"Embeddings\"] = df[\"Text\"].progress_apply(embed_fn)\n",
    "    return df\n",
    "\n",
    "def create_embeddings_full_batch(df): # Elapsed time - ~5.54sec\n",
    "    df[\"Embeddings\"] = embed_fn(df[\"Text\"])\n",
    "    return df\n",
    "\n",
    "async def create_embeddings_async(df, batch_size=10): # ~13.411sec for Batch size = 10, ~5.69sec for Batch size = 200\n",
    "    no_of_tasks = -(df.shape[0] // -batch_size) # ceiling division - count one task for each batch\n",
    "    df[\"Embeddings\"] = await _async_create_embedding(no_of_tasks, df, batch_size)\n",
    "    return df\n",
    "\n",
    "async def _async_create_embedding(no_of_tasks, df, batch_size): \n",
    "    task_list = []\n",
    "    try:\n",
    "        for i in range(no_of_tasks):\n",
    "            start_index = i * batch_size\n",
    "            batch_df = df.iloc[start_index:start_index+batch_size, 0]\n",
    "            task_list.append(_async_call_embed_fn(batch_df)) # 0 is column index of \"Text\" column\n",
    "    except Exception as e:\n",
    "        raise e\n",
    "    \n",
    "    L = await asyncio.gather(*task_list)\n",
    "    \n",
    "    embeddings = []\n",
    "    for result in L:\n",
    "        embeddings.extend(result)\n",
    "    \n",
    "    return embeddings\n",
    "\n",
    "async def _async_call_embed_fn(batch_df):\n",
    "    return embed_fn(batch_df)"
   ]
  },
  {
   "cell_type": "markdown",
   "id": "aa51be44",
   "metadata": {
    "id": "HVDwY8F2kW2O",
    "papermill": {
     "duration": 0.013358,
     "end_time": "2024-11-12T21:58:01.253606",
     "exception": false,
     "start_time": "2024-11-12T21:58:01.240248",
     "status": "completed"
    },
    "tags": []
   },
   "source": [
    "This code is optimised for clarity, and is not particularly fast. It is left as an exercise for the reader to implement [batch](https://ai.google.dev/api/embeddings#method:-models.batchembedcontents) or parallel/asynchronous embedding generation. Running this step will take some time."
   ]
  },
  {
   "cell_type": "code",
   "execution_count": 15,
   "id": "7b39a950",
   "metadata": {
    "execution": {
     "iopub.execute_input": "2024-11-12T21:58:01.282620Z",
     "iopub.status.busy": "2024-11-12T21:58:01.282202Z",
     "iopub.status.idle": "2024-11-12T21:58:01.289596Z",
     "shell.execute_reply": "2024-11-12T21:58:01.288383Z"
    },
    "papermill": {
     "duration": 0.024873,
     "end_time": "2024-11-12T21:58:01.292129",
     "exception": false,
     "start_time": "2024-11-12T21:58:01.267256",
     "status": "completed"
    },
    "tags": []
   },
   "outputs": [
    {
     "data": {
      "text/plain": [
       "'3.10.14 | packaged by conda-forge | (main, Mar 20 2024, 12:45:18) [GCC 12.3.0]'"
      ]
     },
     "execution_count": 15,
     "metadata": {},
     "output_type": "execute_result"
    }
   ],
   "source": [
    "import sys\n",
    "\n",
    "sys.version"
   ]
  },
  {
   "cell_type": "code",
   "execution_count": 16,
   "id": "33ddc6d4",
   "metadata": {
    "execution": {
     "iopub.execute_input": "2024-11-12T21:58:01.321738Z",
     "iopub.status.busy": "2024-11-12T21:58:01.321155Z",
     "iopub.status.idle": "2024-11-12T21:58:13.550095Z",
     "shell.execute_reply": "2024-11-12T21:58:13.548765Z"
    },
    "id": "AH0yrHUHtHtw",
    "papermill": {
     "duration": 12.246576,
     "end_time": "2024-11-12T21:58:13.552629",
     "exception": false,
     "start_time": "2024-11-12T21:58:01.306053",
     "status": "completed"
    },
    "tags": []
   },
   "outputs": [
    {
     "name": "stdout",
     "output_type": "stream",
     "text": [
      "Time taken: 12.2220 seconds\n"
     ]
    }
   ],
   "source": [
    "import time\n",
    "\n",
    "start = time.perf_counter()\n",
    "df_train = create_embeddings_full_batch(df_train)\n",
    "df_test = create_embeddings_full_batch(df_test)\n",
    "end = time.perf_counter()\n",
    "\n",
    "print(f\"Time taken: {(end - start):.4f} seconds\")"
   ]
  },
  {
   "cell_type": "code",
   "execution_count": 17,
   "id": "e29fac45",
   "metadata": {
    "execution": {
     "iopub.execute_input": "2024-11-12T21:58:13.582474Z",
     "iopub.status.busy": "2024-11-12T21:58:13.582060Z",
     "iopub.status.idle": "2024-11-12T21:58:33.977000Z",
     "shell.execute_reply": "2024-11-12T21:58:33.975402Z"
    },
    "papermill": {
     "duration": 20.41294,
     "end_time": "2024-11-12T21:58:33.979618",
     "exception": false,
     "start_time": "2024-11-12T21:58:13.566678",
     "status": "completed"
    },
    "tags": []
   },
   "outputs": [
    {
     "name": "stdout",
     "output_type": "stream",
     "text": [
      "Time taken: 20.3881 seconds\n"
     ]
    }
   ],
   "source": [
    "import time\n",
    "\n",
    "start = time.perf_counter()\n",
    "df_train = await create_embeddings_async(df_train)\n",
    "df_test = await create_embeddings_async(df_test)\n",
    "end = time.perf_counter()\n",
    "\n",
    "print(f\"Time taken: {(end - start):.4f} seconds\")"
   ]
  },
  {
   "cell_type": "code",
   "execution_count": 18,
   "id": "bafbb83f",
   "metadata": {
    "execution": {
     "iopub.execute_input": "2024-11-12T21:58:34.010032Z",
     "iopub.status.busy": "2024-11-12T21:58:34.009527Z",
     "iopub.status.idle": "2024-11-12T21:58:34.032889Z",
     "shell.execute_reply": "2024-11-12T21:58:34.031652Z"
    },
    "id": "6G5TvLlmRjHc",
    "papermill": {
     "duration": 0.041951,
     "end_time": "2024-11-12T21:58:34.035462",
     "exception": false,
     "start_time": "2024-11-12T21:58:33.993511",
     "status": "completed"
    },
    "tags": []
   },
   "outputs": [
    {
     "data": {
      "text/html": [
       "<div>\n",
       "<style scoped>\n",
       "    .dataframe tbody tr th:only-of-type {\n",
       "        vertical-align: middle;\n",
       "    }\n",
       "\n",
       "    .dataframe tbody tr th {\n",
       "        vertical-align: top;\n",
       "    }\n",
       "\n",
       "    .dataframe thead th {\n",
       "        text-align: right;\n",
       "    }\n",
       "</style>\n",
       "<table border=\"1\" class=\"dataframe\">\n",
       "  <thead>\n",
       "    <tr style=\"text-align: right;\">\n",
       "      <th></th>\n",
       "      <th>Text</th>\n",
       "      <th>Label</th>\n",
       "      <th>Class Name</th>\n",
       "      <th>Encoded Label</th>\n",
       "      <th>Embeddings</th>\n",
       "    </tr>\n",
       "  </thead>\n",
       "  <tbody>\n",
       "    <tr>\n",
       "      <th>1100</th>\n",
       "      <td>Corporate acceptance of the wiretap chip\\n\\n \\...</td>\n",
       "      <td>11</td>\n",
       "      <td>sci.crypt</td>\n",
       "      <td>0</td>\n",
       "      <td>[0.0121621005, 0.019775428, -0.053657718, 0.02...</td>\n",
       "    </tr>\n",
       "    <tr>\n",
       "      <th>1101</th>\n",
       "      <td>Re: Once tapped, your code is no good any more...</td>\n",
       "      <td>11</td>\n",
       "      <td>sci.crypt</td>\n",
       "      <td>0</td>\n",
       "      <td>[-0.0067247837, 0.015545227, -0.040562473, 0.0...</td>\n",
       "    </tr>\n",
       "    <tr>\n",
       "      <th>1102</th>\n",
       "      <td>Re: Organized Lobbying for Cryptography\\n\\nTar...</td>\n",
       "      <td>11</td>\n",
       "      <td>sci.crypt</td>\n",
       "      <td>0</td>\n",
       "      <td>[-0.025653368, 0.02024857, -0.031537693, 0.036...</td>\n",
       "    </tr>\n",
       "    <tr>\n",
       "      <th>1103</th>\n",
       "      <td>Re: Screw the people, crypto is for hard-core ...</td>\n",
       "      <td>11</td>\n",
       "      <td>sci.crypt</td>\n",
       "      <td>0</td>\n",
       "      <td>[-0.008852128, -0.0025975993, -0.053048152, 0....</td>\n",
       "    </tr>\n",
       "    <tr>\n",
       "      <th>1104</th>\n",
       "      <td>Re: Secret algorithm [Re: Clipper Chip and cry...</td>\n",
       "      <td>11</td>\n",
       "      <td>sci.crypt</td>\n",
       "      <td>0</td>\n",
       "      <td>[-0.00510181, 0.020456951, -0.022433043, 0.057...</td>\n",
       "    </tr>\n",
       "  </tbody>\n",
       "</table>\n",
       "</div>"
      ],
      "text/plain": [
       "                                                   Text  Label Class Name  \\\n",
       "1100  Corporate acceptance of the wiretap chip\\n\\n \\...     11  sci.crypt   \n",
       "1101  Re: Once tapped, your code is no good any more...     11  sci.crypt   \n",
       "1102  Re: Organized Lobbying for Cryptography\\n\\nTar...     11  sci.crypt   \n",
       "1103  Re: Screw the people, crypto is for hard-core ...     11  sci.crypt   \n",
       "1104  Re: Secret algorithm [Re: Clipper Chip and cry...     11  sci.crypt   \n",
       "\n",
       "      Encoded Label                                         Embeddings  \n",
       "1100              0  [0.0121621005, 0.019775428, -0.053657718, 0.02...  \n",
       "1101              0  [-0.0067247837, 0.015545227, -0.040562473, 0.0...  \n",
       "1102              0  [-0.025653368, 0.02024857, -0.031537693, 0.036...  \n",
       "1103              0  [-0.008852128, -0.0025975993, -0.053048152, 0....  \n",
       "1104              0  [-0.00510181, 0.020456951, -0.022433043, 0.057...  "
      ]
     },
     "execution_count": 18,
     "metadata": {},
     "output_type": "execute_result"
    }
   ],
   "source": [
    "df_train.head()"
   ]
  },
  {
   "cell_type": "code",
   "execution_count": 19,
   "id": "f623e522",
   "metadata": {
    "execution": {
     "iopub.execute_input": "2024-11-12T21:58:34.067139Z",
     "iopub.status.busy": "2024-11-12T21:58:34.066660Z",
     "iopub.status.idle": "2024-11-12T21:58:34.088565Z",
     "shell.execute_reply": "2024-11-12T21:58:34.087068Z"
    },
    "papermill": {
     "duration": 0.041316,
     "end_time": "2024-11-12T21:58:34.091493",
     "exception": false,
     "start_time": "2024-11-12T21:58:34.050177",
     "status": "completed"
    },
    "tags": []
   },
   "outputs": [
    {
     "data": {
      "text/html": [
       "<div>\n",
       "<style scoped>\n",
       "    .dataframe tbody tr th:only-of-type {\n",
       "        vertical-align: middle;\n",
       "    }\n",
       "\n",
       "    .dataframe tbody tr th {\n",
       "        vertical-align: top;\n",
       "    }\n",
       "\n",
       "    .dataframe thead th {\n",
       "        text-align: right;\n",
       "    }\n",
       "</style>\n",
       "<table border=\"1\" class=\"dataframe\">\n",
       "  <thead>\n",
       "    <tr style=\"text-align: right;\">\n",
       "      <th></th>\n",
       "      <th>Text</th>\n",
       "      <th>Label</th>\n",
       "      <th>Class Name</th>\n",
       "      <th>Encoded Label</th>\n",
       "      <th>Embeddings</th>\n",
       "    </tr>\n",
       "  </thead>\n",
       "  <tbody>\n",
       "    <tr>\n",
       "      <th>1495</th>\n",
       "      <td>Re: Mars Observer Update - 03/29/93\\n\\nIn arti...</td>\n",
       "      <td>14</td>\n",
       "      <td>sci.space</td>\n",
       "      <td>3</td>\n",
       "      <td>[0.0024033128, 0.038811594, -0.03208366, 0.021...</td>\n",
       "    </tr>\n",
       "    <tr>\n",
       "      <th>1496</th>\n",
       "      <td>Re: Gamma Ray Bursters.  WHere  are they.\\n\\nI...</td>\n",
       "      <td>14</td>\n",
       "      <td>sci.space</td>\n",
       "      <td>3</td>\n",
       "      <td>[-0.0021169432, 0.010778498, -0.045135032, 0.0...</td>\n",
       "    </tr>\n",
       "    <tr>\n",
       "      <th>1497</th>\n",
       "      <td>Vandalizing the sky.\\n\\nFrom the article \"What...</td>\n",
       "      <td>14</td>\n",
       "      <td>sci.space</td>\n",
       "      <td>3</td>\n",
       "      <td>[0.0011828926, 0.017447785, -0.02749165, 0.019...</td>\n",
       "    </tr>\n",
       "    <tr>\n",
       "      <th>1498</th>\n",
       "      <td>SSTO Senatorial (aide) breifing recollections....</td>\n",
       "      <td>14</td>\n",
       "      <td>sci.space</td>\n",
       "      <td>3</td>\n",
       "      <td>[0.03515148, -0.005756767, -0.042941164, 0.034...</td>\n",
       "    </tr>\n",
       "    <tr>\n",
       "      <th>1499</th>\n",
       "      <td>Re: How to get there? (was Re: Comet in Tempor...</td>\n",
       "      <td>14</td>\n",
       "      <td>sci.space</td>\n",
       "      <td>3</td>\n",
       "      <td>[0.016300991, 0.0352334, -0.033666324, 0.02654...</td>\n",
       "    </tr>\n",
       "  </tbody>\n",
       "</table>\n",
       "</div>"
      ],
      "text/plain": [
       "                                                   Text  Label Class Name  \\\n",
       "1495  Re: Mars Observer Update - 03/29/93\\n\\nIn arti...     14  sci.space   \n",
       "1496  Re: Gamma Ray Bursters.  WHere  are they.\\n\\nI...     14  sci.space   \n",
       "1497  Vandalizing the sky.\\n\\nFrom the article \"What...     14  sci.space   \n",
       "1498  SSTO Senatorial (aide) breifing recollections....     14  sci.space   \n",
       "1499  Re: How to get there? (was Re: Comet in Tempor...     14  sci.space   \n",
       "\n",
       "      Encoded Label                                         Embeddings  \n",
       "1495              3  [0.0024033128, 0.038811594, -0.03208366, 0.021...  \n",
       "1496              3  [-0.0021169432, 0.010778498, -0.045135032, 0.0...  \n",
       "1497              3  [0.0011828926, 0.017447785, -0.02749165, 0.019...  \n",
       "1498              3  [0.03515148, -0.005756767, -0.042941164, 0.034...  \n",
       "1499              3  [0.016300991, 0.0352334, -0.033666324, 0.02654...  "
      ]
     },
     "execution_count": 19,
     "metadata": {},
     "output_type": "execute_result"
    }
   ],
   "source": [
    "df_train.tail()"
   ]
  },
  {
   "cell_type": "markdown",
   "id": "90866bf9",
   "metadata": {
    "id": "QPYEYkIsWt_5",
    "papermill": {
     "duration": 0.015188,
     "end_time": "2024-11-12T21:58:34.122015",
     "exception": false,
     "start_time": "2024-11-12T21:58:34.106827",
     "status": "completed"
    },
    "tags": []
   },
   "source": [
    "## Build a simple classification model\n",
    "\n",
    "Here you will define a simple model that accepts the raw embedding data as input, has one hidden layer, and an output layer specifying the class probabilities. The prediction will correspond to the probability of a piece of text being a particular class of news.\n",
    "\n",
    "When you run the model, Keras will take care of details like shuffling the data points, calculating metrics and other ML boilerplate."
   ]
  },
  {
   "cell_type": "code",
   "execution_count": 20,
   "id": "2ba86da7",
   "metadata": {
    "execution": {
     "iopub.execute_input": "2024-11-12T21:58:34.154036Z",
     "iopub.status.busy": "2024-11-12T21:58:34.153505Z",
     "iopub.status.idle": "2024-11-12T21:58:47.464459Z",
     "shell.execute_reply": "2024-11-12T21:58:47.463363Z"
    },
    "id": "3oLGi4w5JsQR",
    "papermill": {
     "duration": 13.330608,
     "end_time": "2024-11-12T21:58:47.467495",
     "exception": false,
     "start_time": "2024-11-12T21:58:34.136887",
     "status": "completed"
    },
    "tags": []
   },
   "outputs": [],
   "source": [
    "import keras\n",
    "from keras import layers\n",
    "\n",
    "\n",
    "def build_classification_model(input_size: int, num_classes: int) -> keras.Model:\n",
    "    return keras.Sequential(\n",
    "        [\n",
    "            layers.Input([input_size], name=\"embedding_inputs\"),\n",
    "            layers.Dense(input_size, activation=\"relu\", name=\"hidden\"),\n",
    "            layers.Dense(num_classes, activation=\"softmax\", name=\"output_probs\"),\n",
    "        ]\n",
    "    )"
   ]
  },
  {
   "cell_type": "code",
   "execution_count": 21,
   "id": "c4dc29e3",
   "metadata": {
    "execution": {
     "iopub.execute_input": "2024-11-12T21:58:47.499508Z",
     "iopub.status.busy": "2024-11-12T21:58:47.498636Z",
     "iopub.status.idle": "2024-11-12T21:58:47.614452Z",
     "shell.execute_reply": "2024-11-12T21:58:47.613435Z"
    },
    "id": "kORA1Akl5GsG",
    "papermill": {
     "duration": 0.134685,
     "end_time": "2024-11-12T21:58:47.617217",
     "exception": false,
     "start_time": "2024-11-12T21:58:47.482532",
     "status": "completed"
    },
    "tags": []
   },
   "outputs": [
    {
     "data": {
      "text/html": [
       "<pre style=\"white-space:pre;overflow-x:auto;line-height:normal;font-family:Menlo,'DejaVu Sans Mono',consolas,'Courier New',monospace\"><span style=\"font-weight: bold\">Model: \"sequential\"</span>\n",
       "</pre>\n"
      ],
      "text/plain": [
       "\u001b[1mModel: \"sequential\"\u001b[0m\n"
      ]
     },
     "metadata": {},
     "output_type": "display_data"
    },
    {
     "data": {
      "text/html": [
       "<pre style=\"white-space:pre;overflow-x:auto;line-height:normal;font-family:Menlo,'DejaVu Sans Mono',consolas,'Courier New',monospace\">┏━━━━━━━━━━━━━━━━━━━━━━━━━━━━━━━━━┳━━━━━━━━━━━━━━━━━━━━━━━━┳━━━━━━━━━━━━━━━┓\n",
       "┃<span style=\"font-weight: bold\"> Layer (type)                    </span>┃<span style=\"font-weight: bold\"> Output Shape           </span>┃<span style=\"font-weight: bold\">       Param # </span>┃\n",
       "┡━━━━━━━━━━━━━━━━━━━━━━━━━━━━━━━━━╇━━━━━━━━━━━━━━━━━━━━━━━━╇━━━━━━━━━━━━━━━┩\n",
       "│ hidden (<span style=\"color: #0087ff; text-decoration-color: #0087ff\">Dense</span>)                  │ (<span style=\"color: #00d7ff; text-decoration-color: #00d7ff\">None</span>, <span style=\"color: #00af00; text-decoration-color: #00af00\">768</span>)            │       <span style=\"color: #00af00; text-decoration-color: #00af00\">590,592</span> │\n",
       "├─────────────────────────────────┼────────────────────────┼───────────────┤\n",
       "│ output_probs (<span style=\"color: #0087ff; text-decoration-color: #0087ff\">Dense</span>)            │ (<span style=\"color: #00d7ff; text-decoration-color: #00d7ff\">None</span>, <span style=\"color: #00af00; text-decoration-color: #00af00\">4</span>)              │         <span style=\"color: #00af00; text-decoration-color: #00af00\">3,076</span> │\n",
       "└─────────────────────────────────┴────────────────────────┴───────────────┘\n",
       "</pre>\n"
      ],
      "text/plain": [
       "┏━━━━━━━━━━━━━━━━━━━━━━━━━━━━━━━━━┳━━━━━━━━━━━━━━━━━━━━━━━━┳━━━━━━━━━━━━━━━┓\n",
       "┃\u001b[1m \u001b[0m\u001b[1mLayer (type)                   \u001b[0m\u001b[1m \u001b[0m┃\u001b[1m \u001b[0m\u001b[1mOutput Shape          \u001b[0m\u001b[1m \u001b[0m┃\u001b[1m \u001b[0m\u001b[1m      Param #\u001b[0m\u001b[1m \u001b[0m┃\n",
       "┡━━━━━━━━━━━━━━━━━━━━━━━━━━━━━━━━━╇━━━━━━━━━━━━━━━━━━━━━━━━╇━━━━━━━━━━━━━━━┩\n",
       "│ hidden (\u001b[38;5;33mDense\u001b[0m)                  │ (\u001b[38;5;45mNone\u001b[0m, \u001b[38;5;34m768\u001b[0m)            │       \u001b[38;5;34m590,592\u001b[0m │\n",
       "├─────────────────────────────────┼────────────────────────┼───────────────┤\n",
       "│ output_probs (\u001b[38;5;33mDense\u001b[0m)            │ (\u001b[38;5;45mNone\u001b[0m, \u001b[38;5;34m4\u001b[0m)              │         \u001b[38;5;34m3,076\u001b[0m │\n",
       "└─────────────────────────────────┴────────────────────────┴───────────────┘\n"
      ]
     },
     "metadata": {},
     "output_type": "display_data"
    },
    {
     "data": {
      "text/html": [
       "<pre style=\"white-space:pre;overflow-x:auto;line-height:normal;font-family:Menlo,'DejaVu Sans Mono',consolas,'Courier New',monospace\"><span style=\"font-weight: bold\"> Total params: </span><span style=\"color: #00af00; text-decoration-color: #00af00\">593,668</span> (2.26 MB)\n",
       "</pre>\n"
      ],
      "text/plain": [
       "\u001b[1m Total params: \u001b[0m\u001b[38;5;34m593,668\u001b[0m (2.26 MB)\n"
      ]
     },
     "metadata": {},
     "output_type": "display_data"
    },
    {
     "data": {
      "text/html": [
       "<pre style=\"white-space:pre;overflow-x:auto;line-height:normal;font-family:Menlo,'DejaVu Sans Mono',consolas,'Courier New',monospace\"><span style=\"font-weight: bold\"> Trainable params: </span><span style=\"color: #00af00; text-decoration-color: #00af00\">593,668</span> (2.26 MB)\n",
       "</pre>\n"
      ],
      "text/plain": [
       "\u001b[1m Trainable params: \u001b[0m\u001b[38;5;34m593,668\u001b[0m (2.26 MB)\n"
      ]
     },
     "metadata": {},
     "output_type": "display_data"
    },
    {
     "data": {
      "text/html": [
       "<pre style=\"white-space:pre;overflow-x:auto;line-height:normal;font-family:Menlo,'DejaVu Sans Mono',consolas,'Courier New',monospace\"><span style=\"font-weight: bold\"> Non-trainable params: </span><span style=\"color: #00af00; text-decoration-color: #00af00\">0</span> (0.00 B)\n",
       "</pre>\n"
      ],
      "text/plain": [
       "\u001b[1m Non-trainable params: \u001b[0m\u001b[38;5;34m0\u001b[0m (0.00 B)\n"
      ]
     },
     "metadata": {},
     "output_type": "display_data"
    }
   ],
   "source": [
    "# Derive the embedding size from observing the data. The embedding size can also be specified\n",
    "# with the `output_dimensionality` parameter to `embed_content` if you need to reduce it.\n",
    "embedding_size = len(df_train[\"Embeddings\"].iloc[0])\n",
    "\n",
    "classifier = build_classification_model(\n",
    "    embedding_size, len(df_train[\"Class Name\"].unique())\n",
    ")\n",
    "classifier.summary()\n",
    "\n",
    "classifier.compile(\n",
    "    loss=keras.losses.SparseCategoricalCrossentropy(),\n",
    "    optimizer=keras.optimizers.Adam(learning_rate=0.001),\n",
    "    metrics=[\"accuracy\"],\n",
    ")"
   ]
  },
  {
   "cell_type": "markdown",
   "id": "035b34b9",
   "metadata": {
    "id": "kbpTGGiMXDxl",
    "papermill": {
     "duration": 0.014987,
     "end_time": "2024-11-12T21:58:47.647576",
     "exception": false,
     "start_time": "2024-11-12T21:58:47.632589",
     "status": "completed"
    },
    "tags": []
   },
   "source": [
    "## Train the model\n",
    "\n",
    "Finally, you can train your model. This code uses early stopping to exit the training loop once the loss value stabilises, so the number of epoch loops executed may differ from the specified value."
   ]
  },
  {
   "cell_type": "code",
   "execution_count": 22,
   "id": "53b0c0ed",
   "metadata": {
    "execution": {
     "iopub.execute_input": "2024-11-12T21:58:47.680063Z",
     "iopub.status.busy": "2024-11-12T21:58:47.679585Z",
     "iopub.status.idle": "2024-11-12T21:58:51.956251Z",
     "shell.execute_reply": "2024-11-12T21:58:51.954998Z"
    },
    "id": "bGgvMZGfJ1A4",
    "papermill": {
     "duration": 4.296004,
     "end_time": "2024-11-12T21:58:51.958841",
     "exception": false,
     "start_time": "2024-11-12T21:58:47.662837",
     "status": "completed"
    },
    "tags": []
   },
   "outputs": [
    {
     "name": "stdout",
     "output_type": "stream",
     "text": [
      "Epoch 1/20\n",
      "\u001b[1m13/13\u001b[0m \u001b[32m━━━━━━━━━━━━━━━━━━━━\u001b[0m\u001b[37m\u001b[0m \u001b[1m1s\u001b[0m 29ms/step - accuracy: 0.3039 - loss: 1.3662 - val_accuracy: 0.3500 - val_loss: 1.3098\n",
      "Epoch 2/20\n",
      "\u001b[1m13/13\u001b[0m \u001b[32m━━━━━━━━━━━━━━━━━━━━\u001b[0m\u001b[37m\u001b[0m \u001b[1m0s\u001b[0m 10ms/step - accuracy: 0.5199 - loss: 1.2264 - val_accuracy: 0.4900 - val_loss: 1.1807\n",
      "Epoch 3/20\n",
      "\u001b[1m13/13\u001b[0m \u001b[32m━━━━━━━━━━━━━━━━━━━━\u001b[0m\u001b[37m\u001b[0m \u001b[1m0s\u001b[0m 9ms/step - accuracy: 0.7241 - loss: 1.0713 - val_accuracy: 0.8700 - val_loss: 1.0229\n",
      "Epoch 4/20\n",
      "\u001b[1m13/13\u001b[0m \u001b[32m━━━━━━━━━━━━━━━━━━━━\u001b[0m\u001b[37m\u001b[0m \u001b[1m0s\u001b[0m 9ms/step - accuracy: 0.9147 - loss: 0.8738 - val_accuracy: 0.8600 - val_loss: 0.8629\n",
      "Epoch 5/20\n",
      "\u001b[1m13/13\u001b[0m \u001b[32m━━━━━━━━━━━━━━━━━━━━\u001b[0m\u001b[37m\u001b[0m \u001b[1m0s\u001b[0m 11ms/step - accuracy: 0.9066 - loss: 0.7091 - val_accuracy: 0.8500 - val_loss: 0.7254\n",
      "Epoch 6/20\n",
      "\u001b[1m13/13\u001b[0m \u001b[32m━━━━━━━━━━━━━━━━━━━━\u001b[0m\u001b[37m\u001b[0m \u001b[1m0s\u001b[0m 9ms/step - accuracy: 0.9335 - loss: 0.5531 - val_accuracy: 0.8700 - val_loss: 0.5935\n",
      "Epoch 7/20\n",
      "\u001b[1m13/13\u001b[0m \u001b[32m━━━━━━━━━━━━━━━━━━━━\u001b[0m\u001b[37m\u001b[0m \u001b[1m0s\u001b[0m 8ms/step - accuracy: 0.9507 - loss: 0.4218 - val_accuracy: 0.9000 - val_loss: 0.4983\n",
      "Epoch 8/20\n",
      "\u001b[1m13/13\u001b[0m \u001b[32m━━━━━━━━━━━━━━━━━━━━\u001b[0m\u001b[37m\u001b[0m \u001b[1m0s\u001b[0m 9ms/step - accuracy: 0.9619 - loss: 0.3483 - val_accuracy: 0.9100 - val_loss: 0.4339\n",
      "Epoch 9/20\n",
      "\u001b[1m13/13\u001b[0m \u001b[32m━━━━━━━━━━━━━━━━━━━━\u001b[0m\u001b[37m\u001b[0m \u001b[1m0s\u001b[0m 9ms/step - accuracy: 0.9469 - loss: 0.2971 - val_accuracy: 0.9200 - val_loss: 0.3764\n",
      "Epoch 10/20\n",
      "\u001b[1m13/13\u001b[0m \u001b[32m━━━━━━━━━━━━━━━━━━━━\u001b[0m\u001b[37m\u001b[0m \u001b[1m0s\u001b[0m 9ms/step - accuracy: 0.9731 - loss: 0.2232 - val_accuracy: 0.9100 - val_loss: 0.3387\n",
      "Epoch 11/20\n",
      "\u001b[1m13/13\u001b[0m \u001b[32m━━━━━━━━━━━━━━━━━━━━\u001b[0m\u001b[37m\u001b[0m \u001b[1m0s\u001b[0m 11ms/step - accuracy: 0.9745 - loss: 0.1934 - val_accuracy: 0.9100 - val_loss: 0.3176\n",
      "Epoch 12/20\n",
      "\u001b[1m13/13\u001b[0m \u001b[32m━━━━━━━━━━━━━━━━━━━━\u001b[0m\u001b[37m\u001b[0m \u001b[1m0s\u001b[0m 9ms/step - accuracy: 0.9749 - loss: 0.1838 - val_accuracy: 0.9200 - val_loss: 0.2775\n",
      "Epoch 13/20\n",
      "\u001b[1m13/13\u001b[0m \u001b[32m━━━━━━━━━━━━━━━━━━━━\u001b[0m\u001b[37m\u001b[0m \u001b[1m0s\u001b[0m 9ms/step - accuracy: 0.9888 - loss: 0.1430 - val_accuracy: 0.9300 - val_loss: 0.2553\n",
      "Epoch 14/20\n",
      "\u001b[1m13/13\u001b[0m \u001b[32m━━━━━━━━━━━━━━━━━━━━\u001b[0m\u001b[37m\u001b[0m \u001b[1m0s\u001b[0m 8ms/step - accuracy: 0.9908 - loss: 0.1238 - val_accuracy: 0.9300 - val_loss: 0.2385\n",
      "Epoch 15/20\n",
      "\u001b[1m13/13\u001b[0m \u001b[32m━━━━━━━━━━━━━━━━━━━━\u001b[0m\u001b[37m\u001b[0m \u001b[1m0s\u001b[0m 8ms/step - accuracy: 0.9910 - loss: 0.1182 - val_accuracy: 0.9300 - val_loss: 0.2286\n",
      "Epoch 16/20\n",
      "\u001b[1m13/13\u001b[0m \u001b[32m━━━━━━━━━━━━━━━━━━━━\u001b[0m\u001b[37m\u001b[0m \u001b[1m0s\u001b[0m 8ms/step - accuracy: 0.9884 - loss: 0.1003 - val_accuracy: 0.9500 - val_loss: 0.2147\n",
      "Epoch 17/20\n",
      "\u001b[1m13/13\u001b[0m \u001b[32m━━━━━━━━━━━━━━━━━━━━\u001b[0m\u001b[37m\u001b[0m \u001b[1m0s\u001b[0m 9ms/step - accuracy: 0.9961 - loss: 0.0886 - val_accuracy: 0.9500 - val_loss: 0.1993\n",
      "Epoch 18/20\n",
      "\u001b[1m13/13\u001b[0m \u001b[32m━━━━━━━━━━━━━━━━━━━━\u001b[0m\u001b[37m\u001b[0m \u001b[1m0s\u001b[0m 9ms/step - accuracy: 0.9961 - loss: 0.0887 - val_accuracy: 0.9400 - val_loss: 0.2017\n",
      "Epoch 19/20\n",
      "\u001b[1m13/13\u001b[0m \u001b[32m━━━━━━━━━━━━━━━━━━━━\u001b[0m\u001b[37m\u001b[0m \u001b[1m0s\u001b[0m 9ms/step - accuracy: 0.9888 - loss: 0.0750 - val_accuracy: 0.9500 - val_loss: 0.1868\n",
      "Epoch 20/20\n",
      "\u001b[1m13/13\u001b[0m \u001b[32m━━━━━━━━━━━━━━━━━━━━\u001b[0m\u001b[37m\u001b[0m \u001b[1m0s\u001b[0m 9ms/step - accuracy: 0.9923 - loss: 0.0707 - val_accuracy: 0.9400 - val_loss: 0.1728\n"
     ]
    }
   ],
   "source": [
    "import numpy as np\n",
    "\n",
    "\n",
    "NUM_EPOCHS = 20\n",
    "BATCH_SIZE = 32\n",
    "\n",
    "# Split the x and y components of the train and validation subsets.\n",
    "y_train = df_train[\"Encoded Label\"]\n",
    "x_train = np.stack(df_train[\"Embeddings\"])\n",
    "y_val = df_test[\"Encoded Label\"]\n",
    "x_val = np.stack(df_test[\"Embeddings\"])\n",
    "\n",
    "# Specify that it's OK to stop early if accuracy stabilises.\n",
    "early_stop = keras.callbacks.EarlyStopping(monitor=\"accuracy\", patience=3)\n",
    "\n",
    "# Train the model for the desired number of epochs.\n",
    "history = classifier.fit(\n",
    "    x=x_train,\n",
    "    y=y_train,\n",
    "    validation_data=(x_val, y_val),\n",
    "    callbacks=[early_stop],\n",
    "    batch_size=BATCH_SIZE,\n",
    "    epochs=NUM_EPOCHS,\n",
    ")"
   ]
  },
  {
   "cell_type": "markdown",
   "id": "1c92453a",
   "metadata": {
    "id": "xGBaDHZUPdJO",
    "papermill": {
     "duration": 0.022707,
     "end_time": "2024-11-12T21:58:52.007396",
     "exception": false,
     "start_time": "2024-11-12T21:58:51.984689",
     "status": "completed"
    },
    "tags": []
   },
   "source": [
    "## Evaluate model performance\n",
    "\n",
    "Use Keras <a href=\"https://www.tensorflow.org/api_docs/python/tf/keras/Model#evaluate\"><code>Model.evaluate</code></a> to calculate the loss and accuracy on the test dataset."
   ]
  },
  {
   "cell_type": "code",
   "execution_count": 23,
   "id": "2568964b",
   "metadata": {
    "execution": {
     "iopub.execute_input": "2024-11-12T21:58:52.057116Z",
     "iopub.status.busy": "2024-11-12T21:58:52.056643Z",
     "iopub.status.idle": "2024-11-12T21:58:52.161178Z",
     "shell.execute_reply": "2024-11-12T21:58:52.159816Z"
    },
    "id": "d2kOeiqqQIB8",
    "papermill": {
     "duration": 0.133424,
     "end_time": "2024-11-12T21:58:52.163791",
     "exception": false,
     "start_time": "2024-11-12T21:58:52.030367",
     "status": "completed"
    },
    "tags": []
   },
   "outputs": [
    {
     "name": "stdout",
     "output_type": "stream",
     "text": [
      "\u001b[1m4/4\u001b[0m \u001b[32m━━━━━━━━━━━━━━━━━━━━\u001b[0m\u001b[37m\u001b[0m \u001b[1m0s\u001b[0m 3ms/step - accuracy: 0.9291 - loss: 0.1730 \n"
     ]
    },
    {
     "data": {
      "text/plain": [
       "{'accuracy': 0.9399999976158142, 'loss': 0.17278039455413818}"
      ]
     },
     "execution_count": 23,
     "metadata": {},
     "output_type": "execute_result"
    }
   ],
   "source": [
    "classifier.evaluate(x=x_val, y=y_val, return_dict=True)"
   ]
  },
  {
   "cell_type": "markdown",
   "id": "ed3b12f0",
   "metadata": {
    "id": "UyxMhiLYQXAN",
    "papermill": {
     "duration": 0.023205,
     "end_time": "2024-11-12T21:58:52.213473",
     "exception": false,
     "start_time": "2024-11-12T21:58:52.190268",
     "status": "completed"
    },
    "tags": []
   },
   "source": [
    "To learn more about training models with Keras, including how to visualise the model training metrics, read [Training & evaluation with built-in methods](https://www.tensorflow.org/guide/keras/training_with_built_in_methods)."
   ]
  },
  {
   "cell_type": "markdown",
   "id": "e81486de",
   "metadata": {
    "id": "XHyP-_torwsm",
    "papermill": {
     "duration": 0.023071,
     "end_time": "2024-11-12T21:58:52.260097",
     "exception": false,
     "start_time": "2024-11-12T21:58:52.237026",
     "status": "completed"
    },
    "tags": []
   },
   "source": [
    "## Try a custom prediction\n",
    "\n",
    "Now that you have a trained model with good evaluation metrics, you can try to make a prediction with new, hand-written data. Use the provided example or try your own data to see how the model performs."
   ]
  },
  {
   "cell_type": "code",
   "execution_count": 24,
   "id": "a21737fe",
   "metadata": {
    "execution": {
     "iopub.execute_input": "2024-11-12T21:58:52.308290Z",
     "iopub.status.busy": "2024-11-12T21:58:52.307866Z",
     "iopub.status.idle": "2024-11-12T21:58:52.569692Z",
     "shell.execute_reply": "2024-11-12T21:58:52.568523Z"
    },
    "id": "Lj4gR0Mdr2rb",
    "papermill": {
     "duration": 0.289597,
     "end_time": "2024-11-12T21:58:52.572863",
     "exception": false,
     "start_time": "2024-11-12T21:58:52.283266",
     "status": "completed"
    },
    "tags": []
   },
   "outputs": [],
   "source": [
    "# This example avoids any space-specific terminology to see if the model avoids\n",
    "# biases towards specific jargon.\n",
    "new_text = \"\"\"\n",
    "First-timer looking to get out of here.\n",
    "\n",
    "Hi, I'm writing about my interest in travelling to the outer limits!\n",
    "\n",
    "What kind of craft can I buy? What is easiest to access from this 3rd rock?\n",
    "\n",
    "Let me know how to do that please.\n",
    "\"\"\"\n",
    "embedded = embed_fn(new_text)"
   ]
  },
  {
   "cell_type": "code",
   "execution_count": 25,
   "id": "efae0a9f",
   "metadata": {
    "execution": {
     "iopub.execute_input": "2024-11-12T21:58:52.623171Z",
     "iopub.status.busy": "2024-11-12T21:58:52.622692Z",
     "iopub.status.idle": "2024-11-12T21:58:52.730576Z",
     "shell.execute_reply": "2024-11-12T21:58:52.729059Z"
    },
    "id": "CKTHEMrRsbcu",
    "papermill": {
     "duration": 0.136682,
     "end_time": "2024-11-12T21:58:52.733446",
     "exception": false,
     "start_time": "2024-11-12T21:58:52.596764",
     "status": "completed"
    },
    "tags": []
   },
   "outputs": [
    {
     "name": "stdout",
     "output_type": "stream",
     "text": [
      "\u001b[1m1/1\u001b[0m \u001b[32m━━━━━━━━━━━━━━━━━━━━\u001b[0m\u001b[37m\u001b[0m \u001b[1m0s\u001b[0m 48ms/step\n",
      "sci.crypt: 0.04%\n",
      "sci.electronics: 0.56%\n",
      "sci.med: 0.05%\n",
      "sci.space: 99.34%\n"
     ]
    }
   ],
   "source": [
    "# Remember that the model takes embeddings as input, and the input must be batched,\n",
    "# so here they are passed as a list to provide a batch of 1.\n",
    "inp = np.array([embedded])\n",
    "[result] = classifier.predict(inp)\n",
    "\n",
    "for idx, category in enumerate(df_test[\"Class Name\"].cat.categories):\n",
    "    print(f\"{category}: {result[idx] * 100:0.2f}%\")"
   ]
  },
  {
   "cell_type": "code",
   "execution_count": null,
   "id": "99b4b337",
   "metadata": {
    "papermill": {
     "duration": 0.023144,
     "end_time": "2024-11-12T21:58:52.780280",
     "exception": false,
     "start_time": "2024-11-12T21:58:52.757136",
     "status": "completed"
    },
    "tags": []
   },
   "outputs": [],
   "source": []
  }
 ],
 "metadata": {
  "colab": {
   "name": "day-2-classifying-embeddings-with-keras.ipynb",
   "toc_visible": true
  },
  "google": {
   "image_path": "/examples/train_text_classifier_embeddings_files/output_3ae76701e178_0.png",
   "keywords": [
    "examples",
    "googleai",
    "samplecode",
    "python",
    "embed"
   ]
  },
  "kaggle": {
   "accelerator": "none",
   "dataSources": [],
   "isGpuEnabled": false,
   "isInternetEnabled": true,
   "language": "python",
   "sourceType": "notebook"
  },
  "kernelspec": {
   "display_name": "Python 3",
   "language": "python",
   "name": "python3"
  },
  "language_info": {
   "codemirror_mode": {
    "name": "ipython",
    "version": 3
   },
   "file_extension": ".py",
   "mimetype": "text/x-python",
   "name": "python",
   "nbconvert_exporter": "python",
   "pygments_lexer": "ipython3",
   "version": "3.10.14"
  },
  "papermill": {
   "default_parameters": {},
   "duration": 112.506372,
   "end_time": "2024-11-12T21:58:54.731794",
   "environment_variables": {},
   "exception": null,
   "input_path": "__notebook__.ipynb",
   "output_path": "__notebook__.ipynb",
   "parameters": {},
   "start_time": "2024-11-12T21:57:02.225422",
   "version": "2.6.0"
  }
 },
 "nbformat": 4,
 "nbformat_minor": 5
}
